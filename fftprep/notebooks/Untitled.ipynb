{
 "cells": [
  {
   "cell_type": "code",
   "execution_count": 12,
   "id": "f8163989-9018-4c04-b4af-76626480c562",
   "metadata": {},
   "outputs": [],
   "source": [
    "import random\n",
    "random.seed(1)"
   ]
  },
  {
   "cell_type": "code",
   "execution_count": 13,
   "id": "f5156227-3fda-4fb7-be9e-9e30f12c1363",
   "metadata": {},
   "outputs": [],
   "source": [
    "def flip(p):\n",
    "    return 'V' if random.random() < p else 'C'"
   ]
  },
  {
   "cell_type": "code",
   "execution_count": 27,
   "id": "6fc8f75a-ad6f-4e90-a8a8-52df475370fb",
   "metadata": {},
   "outputs": [
    {
     "data": {
      "text/plain": [
       "'CVVCCVCCVCCVCCVCCCVCVCVCVCCVCV'"
      ]
     },
     "execution_count": 27,
     "metadata": {},
     "output_type": "execute_result"
    }
   ],
   "source": [
    "text = flip(8638/20000)\n",
    "for i in range(19):\n",
    "    if text[-1] == \"V\": \n",
    "        text += flip(1104/8638)\n",
    "    if text[-1] == \"C\":\n",
    "        text += flip(7535/11362)\n",
    "text"
   ]
  },
  {
   "cell_type": "code",
   "execution_count": null,
   "id": "b2e17520-1fd1-4c18-b213-6f5726d050a6",
   "metadata": {},
   "outputs": [],
   "source": []
  },
  {
   "cell_type": "code",
   "execution_count": null,
   "id": "66e1ee74-11c3-4179-80d9-88cb249caad9",
   "metadata": {},
   "outputs": [],
   "source": []
  },
  {
   "cell_type": "code",
   "execution_count": null,
   "id": "da8e7374-8e90-43d8-bba7-5ea7caeee8e6",
   "metadata": {},
   "outputs": [],
   "source": []
  }
 ],
 "metadata": {
  "kernelspec": {
   "display_name": "Python 3 (ipykernel)",
   "language": "python",
   "name": "python3"
  },
  "language_info": {
   "codemirror_mode": {
    "name": "ipython",
    "version": 3
   },
   "file_extension": ".py",
   "mimetype": "text/x-python",
   "name": "python",
   "nbconvert_exporter": "python",
   "pygments_lexer": "ipython3",
   "version": "3.9.6"
  }
 },
 "nbformat": 4,
 "nbformat_minor": 5
}

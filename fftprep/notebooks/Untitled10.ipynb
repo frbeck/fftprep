{
 "cells": [
  {
   "cell_type": "code",
   "execution_count": 1,
   "id": "7199d8da-30ef-48f6-8553-3c04802d0773",
   "metadata": {},
   "outputs": [],
   "source": [
    "from ROOT import RDataFrame\n",
    "import pandas as pd\n",
    "import numpy as np\n",
    "import matplotlib.pyplot as plt\n",
    "from skimage.io import imread, imshow\n",
    "from tqdm import tqdm\n",
    "\n",
    "from fftprep.fftprep import make_img, fft_filter, fft_filter_pairwise, reconstruct_img, complete_data_pw, load_from_sparse, fftpredictor, params_pairwise, assemble_sparse_data\n",
    "\n",
    "from sklearn.neural_network import MLPRegressor\n",
    "\n",
    "from scipy.signal import detrend\n",
    "\n",
    "import pickle\n",
    "\n",
    "from itertools import combinations\n",
    "\n",
    "from sklearn.linear_model import LinearRegression\n",
    "from sklearn.preprocessing import StandardScaler\n",
    "\n",
    "from scipy.stats import crystalball\n",
    "from scipy.optimize import curve_fit\n",
    "\n",
    "import re"
   ]
  },
  {
   "cell_type": "code",
   "execution_count": 11,
   "id": "d3e31bbe-d96b-42d4-aada-133545a98631",
   "metadata": {},
   "outputs": [],
   "source": [
    "# set parameters\n",
    "params = {\n",
    "    \"X\": {\n",
    "        \"range\": (500,3500),\n",
    "        \"reso\": 0.1\n",
    "    }, \n",
    "    \"Y\": {\n",
    "        \"range\": (500,2800),\n",
    "        \"reso\": 0.1\n",
    "    }\n",
    "    , \n",
    "    \"theta\": {\n",
    "        \"range\": (0,0.6),\n",
    "        \"reso\": 100\n",
    "    }, \n",
    "    \"phi\": {\n",
    "        \"range\": (0,2*np.pi),\n",
    "        \"reso\": 10\n",
    "    }\n",
    "}\n",
    "\n",
    "# add all files in order of momentum\n",
    "files = [\"FullSim_1GeV.root\", \"FullSim_5GeV.root\", \"FullSim_10GeV.root\"] \n",
    "\n",
    "# generate sparse data for storage\n",
    "assemble_sparse_data(files, params)"
   ]
  },
  {
   "cell_type": "code",
   "execution_count": 4,
   "id": "32babd21-25f5-4471-b6b1-ad26e34dfb6e",
   "metadata": {},
   "outputs": [],
   "source": [
    "def load_multi_from_sparse(bins, n_sigma=1, background_pw=None):\n",
    "    return [\n",
    "        load_from_sparse(return_full=True, n_sigma=n_sigma, background_pw=background_pw, p=int(p/1000)) \\\n",
    "        for p in bins\n",
    "    ]\n",
    "    "
   ]
  },
  {
   "cell_type": "code",
   "execution_count": null,
   "id": "d1af0c19-f8d1-44cb-a91e-ef9c3d55e6bf",
   "metadata": {},
   "outputs": [],
   "source": []
  },
  {
   "cell_type": "code",
   "execution_count": 27,
   "id": "f8e58c8c-14ef-48f5-a09d-13139c243207",
   "metadata": {},
   "outputs": [],
   "source": [
    "params = {\n",
    "    \"X\": {\n",
    "        \"range\": (500,3500),\n",
    "        \"reso\": 0.1\n",
    "    }, \n",
    "    \"Y\": {\n",
    "        \"range\": (500,2800),\n",
    "        \"reso\": 0.1\n",
    "    }\n",
    "    , \n",
    "    \"theta\": {\n",
    "        \"range\": (0,0.6),\n",
    "        \"reso\": 100\n",
    "    }, \n",
    "    \"phi\": {\n",
    "        \"range\": (0,2*np.pi),\n",
    "        \"reso\": 10\n",
    "    }\n",
    "}\n",
    "\n",
    "model = fftpredictor(load_multi_from_sparse([1000,5000,10000]), params=params)"
   ]
  },
  {
   "cell_type": "code",
   "execution_count": 26,
   "id": "e685d611-027f-48e4-a6a9-0c04038d8247",
   "metadata": {},
   "outputs": [],
   "source": [
    "class fftpredictor():\n",
    "    def __init__(self, data=None, params=None, n_sigma=1, bins=None):\n",
    "        if bins is None:\n",
    "            self.bins = [1000, 5000, 10000]\n",
    "        if data is None:\n",
    "            self.data = load_multi_from_sparse(self.bins, n_sigma=n_sigma)\n",
    "        else:\n",
    "            self.data = data\n",
    "        self.params = params\n",
    "        if params is None:\n",
    "            self.params = {\n",
    "                \"X\": {\n",
    "                    \"range\": (500,3500),\n",
    "                    \"reso\": 0.1\n",
    "                }, \n",
    "                \"Y\": {\n",
    "                    \"range\": (500,2800),\n",
    "                    \"reso\": 0.1\n",
    "                }\n",
    "                , \n",
    "                \"theta\": {\n",
    "                    \"range\": (0,0.6),\n",
    "                    \"reso\": 100\n",
    "                }, \n",
    "                \"phi\": {\n",
    "                    \"range\": (0,2*np.pi),\n",
    "                    \"reso\": 10\n",
    "                }\n",
    "            }\n",
    "        else:\n",
    "            self.params = params\n",
    "        self.coef_ = np.array([-6.01995295e-02, 4.65687551e-01, 7.69238905e-01, 7.93596378e-01,\n",
    "                               8.39163281e-01, -2.57176367e-01, 4.76729827e-05, 9.34380346e-05,\n",
    "                               1.21868165e-01, 7.07807293e-02])\n",
    "        self.intercept_ = -984.5335006117008\n",
    "\n",
    "    def predict(self, vec, p, mode=\"reg\"):\n",
    "\n",
    "        if p in self.bins:\n",
    "            predictions_pw = []\n",
    "            coords = list(combinations(vec, 2))\n",
    "            bin_ind = self.bins.index(p)\n",
    "            data = self.data[bin_ind]\n",
    "            for i, key in enumerate(data.keys()):\n",
    "                var1 = key.split(\"_\")[0]\n",
    "                var2 = key.split(\"_\")[2]\n",
    "                coords_scales = (\n",
    "                    int((coords[i][0] - self.params[var1][\"range\"][0]) * self.params[var1][\"reso\"]),\n",
    "                    int((coords[i][1] - self.params[var2][\"range\"][0]) * self.params[var2][\"reso\"])\n",
    "                )\n",
    "                predictions_pw.append(data[key][coords_scales])\n",
    "            if mode==\"all\":\n",
    "                return predictions_pw\n",
    "            return np.sum(np.concatenate((predictions_pw, vec))*self.coef_[bin_ind]) + self.intercept_[bin_ind]\n",
    "            \n",
    "        else:\n",
    "            nearest_bins_ind = (np.digitize(p, self.bins) - 1, np.digitize(p, self.bins))\n",
    "            nearest_bins = (self.bins[nearest_bins_ind[0]], self.bins[nearest_bins_ind[1]])\n",
    "            scale = abs(p - nearest_bins[0]) / (abs(p - nearest_bins[0]) + abs(p - nearest_bins[1]))\n",
    "            predictions_pw = []\n",
    "            coords = list(combinations(vec, 2))\n",
    "            data_lower = self.data[nearest_bins_ind[0]]\n",
    "            data_upper = self.data[nearest_bins_ind[1]]\n",
    "            for i, key in enumerate(data_lower.keys()):\n",
    "                var1 = key.split(\"_\")[0]\n",
    "                var2 = key.split(\"_\")[2]\n",
    "                coords_scaled = (\n",
    "                    int((coords[i][0] - self.params[var1][\"range\"][0]) * self.params[var1][\"reso\"]),\n",
    "                    int((coords[i][1] - self.params[var2][\"range\"][0]) * self.params[var2][\"reso\"])\n",
    "                )\n",
    "                predictions_pw.append(\n",
    "                    data_lower[key][coords_scaled] * (1 - scale) + data_upper[key][\n",
    "                        coords_scaled] * scale)\n",
    "            inputs = np.concatenate((predictions_pw, vec))\n",
    "            if mode==\"all\":\n",
    "                return predictions_pw\n",
    "            return (np.sum(inputs*self.coef_[nearest_bins_ind[0]])+ self.intercept_[nearest_bins_ind[0]])*(1-scale) \\\n",
    "                    + (np.sum(inputs*self.coef_[nearest_bins_ind[1]])+ self.intercept_[nearest_bins_ind[1]])*(1-scale)\n",
    "\n",
    "    def fit_linear(self, inputs, outputs):\n",
    "        self.coef_ = []\n",
    "        self.intercept_ = []\n",
    "        for i, p in enumerate(self.bins):\n",
    "            print(\"[1/2] Getting predictions for each coordinate pair from FFT data...\")\n",
    "            preds = []\n",
    "            for row in tqdm(inputs[i]):\n",
    "                preds.append(self.predict((row[1], row[2], row[4], row[5]), p, mode=\"all\"))\n",
    "            print(\"[2/2] computing linear regression coefficients...\")\n",
    "            preds = np.array(preds)\n",
    "            inputs_featurized = np.concatenate((preds, np.delete(inputs[i], [0, 3], axis=1)), axis=1)\n",
    "            reg = LinearRegression().fit(inputs_featurized, outputs[i])\n",
    "            self.coef_.append(reg.coef_)\n",
    "            self.intercept_.append(reg.intercept_)\n",
    "\n",
    "\n",
    "    def initialize(files)"
   ]
  },
  {
   "cell_type": "code",
   "execution_count": 13,
   "id": "5b433a45-3374-4f42-9918-fea5a2e9760e",
   "metadata": {},
   "outputs": [],
   "source": [
    "def get_training_data(files):\n",
    "    X_set = []\n",
    "    obs_set = []\n",
    "    for file in files:\n",
    "        print(f\"[1/2] Loading file: {file} (this may take a while) ...\")\n",
    "        p = int(re.search(r'\\d+', file).group())\n",
    "        data = RDataFrame(\"t;1\", file).AsNumpy()\n",
    "        X = np.array(\n",
    "            [\n",
    "                data[\"part_p\"],\n",
    "                data[\"part_x\"],\n",
    "                data[\"part_y\"],\n",
    "                data[\"part_z\"],\n",
    "                data[\"part_theta\"],\n",
    "                data[\"part_phi\"]\n",
    "            ]\n",
    "        ).transpose()\n",
    "        obs = data[\"cl_E_ecal\"]\n",
    "        print(f\"[2/3] Subsetting data based on parameters: {params} ...\")\n",
    "        subset = (X.transpose()[1] > params[\"X\"][\"range\"][0]) \\\n",
    "                 * (X.transpose()[1] < params[\"X\"][\"range\"][1]) \\\n",
    "                 * (X.transpose()[2] > params[\"Y\"][\"range\"][0]) \\\n",
    "                 * (X.transpose()[2] < params[\"Y\"][\"range\"][1]) \\\n",
    "                 * (X.transpose()[3] > 12280) \\\n",
    "                 * (X.transpose()[3] < 12300) \\\n",
    "                 * (X.transpose()[4] > params[\"theta\"][\"range\"][0]) \\\n",
    "                 * (X.transpose()[4] < params[\"theta\"][\"range\"][1]) \\\n",
    "                 * (X.transpose()[5] > params[\"phi\"][\"range\"][0]) \\\n",
    "                 * (X.transpose()[5] < params[\"phi\"][\"range\"][1])\n",
    "        X_set.append(X[subset])\n",
    "        obs_set.append(obs[subset])\n",
    "    return X_set, obs_set\n",
    "        \n",
    "        "
   ]
  },
  {
   "cell_type": "code",
   "execution_count": 33,
   "id": "01cb6da0-45e7-45db-9607-be0242e68f91",
   "metadata": {},
   "outputs": [
    {
     "name": "stdout",
     "output_type": "stream",
     "text": [
      "[1/2] Loading file: FullSim_1GeV.root (this may take a while) ...\n",
      "[2/3] Subsetting data based on parameters: {'X': {'range': (500, 3500), 'reso': 0.1}, 'Y': {'range': (500, 2800), 'reso': 0.1}, 'theta': {'range': (0, 0.6), 'reso': 100}, 'phi': {'range': (0, 6.283185307179586), 'reso': 10}} ...\n",
      "[1/2] Loading file: FullSim_5GeV.root (this may take a while) ...\n",
      "[2/3] Subsetting data based on parameters: {'X': {'range': (500, 3500), 'reso': 0.1}, 'Y': {'range': (500, 2800), 'reso': 0.1}, 'theta': {'range': (0, 0.6), 'reso': 100}, 'phi': {'range': (0, 6.283185307179586), 'reso': 10}} ...\n",
      "[1/2] Loading file: FullSim_10GeV.root (this may take a while) ...\n",
      "[2/3] Subsetting data based on parameters: {'X': {'range': (500, 3500), 'reso': 0.1}, 'Y': {'range': (500, 2800), 'reso': 0.1}, 'theta': {'range': (0, 0.6), 'reso': 100}, 'phi': {'range': (0, 6.283185307179586), 'reso': 10}} ...\n",
      "[1/2] Getting predictions for each coordinate pair from FFT data...\n"
     ]
    },
    {
     "name": "stderr",
     "output_type": "stream",
     "text": [
      "100%|████████████████████████████| 60070237/60070237 [13:07<00:00, 76289.12it/s]\n"
     ]
    },
    {
     "name": "stdout",
     "output_type": "stream",
     "text": [
      "[2/2] computing linear regression coefficients...\n",
      "[1/2] Getting predictions for each coordinate pair from FFT data...\n"
     ]
    },
    {
     "name": "stderr",
     "output_type": "stream",
     "text": [
      "100%|████████████████████████████| 60403703/60403703 [12:59<00:00, 77529.55it/s]\n"
     ]
    },
    {
     "name": "stdout",
     "output_type": "stream",
     "text": [
      "[2/2] computing linear regression coefficients...\n",
      "[1/2] Getting predictions for each coordinate pair from FFT data...\n"
     ]
    },
    {
     "name": "stderr",
     "output_type": "stream",
     "text": [
      "100%|████████████████████████████| 25487788/25487788 [05:22<00:00, 79004.09it/s]\n"
     ]
    },
    {
     "name": "stdout",
     "output_type": "stream",
     "text": [
      "[2/2] computing linear regression coefficients...\n"
     ]
    }
   ],
   "source": [
    "model.fit_linear(*get_training_data(files))"
   ]
  },
  {
   "cell_type": "code",
   "execution_count": 37,
   "id": "a55bdb7b-3919-4979-ba6a-fee5f3b1ce5c",
   "metadata": {},
   "outputs": [
    {
     "data": {
      "text/plain": [
       "[array([2.06760854e-01, 2.24318204e-01, 7.27489415e-01, 5.77515270e-01,\n",
       "        6.82154470e-01, 1.99721306e-01, 1.28499286e-05, 1.53433174e-05,\n",
       "        4.11704027e-02, 2.51585091e-02]),\n",
       " array([-5.68759353e-02,  4.58101256e-01,  7.74284749e-01,  7.95634036e-01,\n",
       "         8.37574140e-01, -2.51841410e-01,  4.06784754e-05,  1.40460751e-04,\n",
       "         8.57536271e-02,  6.60613376e-02]),\n",
       " array([ 1.61857691e-01,  4.24262543e-01,  7.06796277e-01,  8.09580389e-01,\n",
       "         8.57487536e-01, -2.26864829e-01,  1.35914080e-04,  4.50624295e-04,\n",
       "         4.22329996e-01,  6.73391904e-02])]"
      ]
     },
     "execution_count": 37,
     "metadata": {},
     "output_type": "execute_result"
    }
   ],
   "source": [
    "coef = model.coef_\n",
    "coef"
   ]
  },
  {
   "cell_type": "code",
   "execution_count": null,
   "id": "149fd08f-6286-42de-a9ee-82a010cba201",
   "metadata": {},
   "outputs": [],
   "source": []
  },
  {
   "cell_type": "code",
   "execution_count": null,
   "id": "761a3ca7-42dd-46fb-b38b-390b76764894",
   "metadata": {},
   "outputs": [],
   "source": []
  },
  {
   "cell_type": "code",
   "execution_count": 40,
   "id": "6237006c-123d-4826-9aea-e843465a0958",
   "metadata": {},
   "outputs": [
    {
     "data": {
      "text/plain": [
       "([array([[9.99999939e+02, 5.88440308e+02, 1.62765430e+03, 1.22857803e+04,\n",
       "          1.39695823e-01, 4.72410631e+00],\n",
       "         [1.00000000e+03, 1.64380469e+03, 1.66792468e+03, 1.22859258e+04,\n",
       "          1.46638095e-01, 1.86546373e+00],\n",
       "         [9.99999939e+02, 1.76707153e+03, 1.01445007e+03, 1.22835654e+04,\n",
       "          1.66183084e-01, 5.41390240e-01],\n",
       "         ...,\n",
       "         [1.00000006e+03, 1.30967517e+03, 1.29966113e+03, 1.22845957e+04,\n",
       "          1.64026365e-01, 3.87597466e+00],\n",
       "         [1.00000000e+03, 3.32022876e+03, 1.46044116e+03, 1.22851768e+04,\n",
       "          1.87364370e-01, 2.65906882e+00],\n",
       "         [1.00000000e+03, 1.42315186e+03, 1.41152515e+03, 1.22850000e+04,\n",
       "          5.94317496e-01, 8.48643303e-01]], dtype=float32),\n",
       "  array([[5.0000000e+03, 2.6252981e+03, 2.5895183e+03, 1.2289256e+04,\n",
       "          2.6834196e-01, 1.6430063e+00],\n",
       "         [5.0000000e+03, 2.1472900e+03, 2.5148394e+03, 1.2288985e+04,\n",
       "          5.8074760e-01, 5.8649855e+00],\n",
       "         [5.0000000e+03, 3.0574438e+03, 8.9422284e+02, 1.2283131e+04,\n",
       "          2.3419464e-01, 4.3049550e+00],\n",
       "         ...,\n",
       "         [5.0000000e+03, 1.8920074e+03, 1.3383562e+03, 1.2284735e+04,\n",
       "          4.1470826e-01, 2.7132497e+00],\n",
       "         [5.0000000e+03, 2.1043413e+03, 2.5658264e+03, 1.2289170e+04,\n",
       "          4.4128650e-01, 2.9622550e+00],\n",
       "         [4.9999995e+03, 2.7603899e+03, 2.2622554e+03, 1.2288073e+04,\n",
       "          1.7501056e-01, 1.8160300e+00]], dtype=float32),\n",
       "  array([[1.0000000e+04, 2.1021660e+03, 1.3729929e+03, 1.2284860e+04,\n",
       "          6.7208558e-02, 5.3457451e-01],\n",
       "         [1.0000000e+04, 9.2673376e+02, 6.2039661e+02, 1.2282142e+04,\n",
       "          2.6496866e-01, 4.2605643e+00],\n",
       "         [1.0000000e+04, 1.0580282e+03, 9.5251508e+02, 1.2283341e+04,\n",
       "          1.1751117e-01, 7.9320282e-02],\n",
       "         ...,\n",
       "         [1.0000000e+04, 2.5718179e+03, 1.5884021e+03, 1.2285639e+04,\n",
       "          2.5409535e-01, 2.6483908e+00],\n",
       "         [1.0000000e+04, 2.6681648e+03, 2.2872168e+03, 1.2288163e+04,\n",
       "          1.4705402e-01, 5.0241148e-01],\n",
       "         [1.0000000e+04, 2.5582849e+03, 2.2240322e+03, 1.2287936e+04,\n",
       "          2.1123305e-01, 5.4472051e+00]], dtype=float32)],\n",
       " [ndarray([ 90.21297 ,  77.936714,  94.368484, ..., 113.440834, 131.0365  ,\n",
       "           122.32566 ], dtype=float32),\n",
       "  ndarray([634.6767 , 464.35434, 604.2722 , ..., 517.2723 , 699.8764 ,\n",
       "           618.1263 ], dtype=float32),\n",
       "  ndarray([1366.1606, 1307.4004, 1230.334 , ..., 1370.0219, 1226.9921,\n",
       "           1325.9734], dtype=float32)])"
      ]
     },
     "execution_count": 40,
     "metadata": {},
     "output_type": "execute_result"
    }
   ],
   "source": [
    "training_data"
   ]
  },
  {
   "cell_type": "code",
   "execution_count": null,
   "id": "4c4247aa-e79b-4191-9a0c-566a6541613e",
   "metadata": {},
   "outputs": [],
   "source": [
    "# what to do next\n",
    "# make function to set up model, callable from model\n",
    "# make something so that predict doesnt need to be called in loops, compile data type function\n",
    "# write doc strings\n"
   ]
  },
  {
   "cell_type": "code",
   "execution_count": 39,
   "id": "e3dc1152-5a10-40cb-96f1-9414e57743ba",
   "metadata": {},
   "outputs": [],
   "source": [
    "params = {\n",
    "    \"X\": {\n",
    "        \"range\": (500,3500),\n",
    "        \"reso\": 0.1\n",
    "    }, \n",
    "    \"Y\": {\n",
    "        \"range\": (500,2800),\n",
    "        \"reso\": 0.1\n",
    "    }\n",
    "    , \n",
    "    \"theta\": {\n",
    "        \"range\": (0,0.6),\n",
    "        \"reso\": 100\n",
    "    }, \n",
    "    \"phi\": {\n",
    "        \"range\": (0,2*np.pi),\n",
    "        \"reso\": 10\n",
    "    }\n",
    "}\n",
    "\n",
    "model = fftpredictor(load_multi_from_sparse([1000,5000,10000]), params=params)\n",
    "model.coef_ = coef\n",
    "model.intercept_ = intercept"
   ]
  },
  {
   "cell_type": "code",
   "execution_count": null,
   "id": "b143cbd8-2a3e-4e89-9f7d-506b133bddce",
   "metadata": {},
   "outputs": [],
   "source": []
  }
 ],
 "metadata": {
  "kernelspec": {
   "display_name": "Python 3 (ipykernel)",
   "language": "python",
   "name": "python3"
  },
  "language_info": {
   "codemirror_mode": {
    "name": "ipython",
    "version": 3
   },
   "file_extension": ".py",
   "mimetype": "text/x-python",
   "name": "python",
   "nbconvert_exporter": "python",
   "pygments_lexer": "ipython3",
   "version": "3.12.4"
  }
 },
 "nbformat": 4,
 "nbformat_minor": 5
}

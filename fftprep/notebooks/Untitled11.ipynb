{
 "cells": [
  {
   "cell_type": "code",
   "execution_count": 7,
   "id": "635df51b-86bf-49cf-acd6-d1563f7025e5",
   "metadata": {},
   "outputs": [],
   "source": [
    "from fftprep.fftprep import fftpredictor, assemble_sparse_data, load_multi_from_sparse, get_training_data\n",
    "import numpy as np"
   ]
  },
  {
   "cell_type": "markdown",
   "id": "f6a1428e-7915-491d-a009-86aff8dc32e0",
   "metadata": {},
   "source": [
    "# 1. Generating Data\n",
    "\n",
    "First we need to generate sparse datasets for our algorithm to run off of. To this end we specify coordinate ranges and resolutions that give use the corresponding binning for the data. The sparse data will be saved in `fftprep/data` and be labeled according to which physics experiment it is from as well as the thresholding parameter $\\sigma$ used."
   ]
  },
  {
   "cell_type": "code",
   "execution_count": 4,
   "id": "c3a4c58f-8353-4383-af9d-01049b6729dd",
   "metadata": {},
   "outputs": [],
   "source": [
    "# set parameters\n",
    "params = {\n",
    "    \"X\": {\n",
    "        \"range\": (500,3500),\n",
    "        \"reso\": 0.1\n",
    "    }, \n",
    "    \"Y\": {\n",
    "        \"range\": (500,2800),\n",
    "        \"reso\": 0.1\n",
    "    }\n",
    "    , \n",
    "    \"theta\": {\n",
    "        \"range\": (0,0.6),\n",
    "        \"reso\": 100\n",
    "    }, \n",
    "    \"phi\": {\n",
    "        \"range\": (0,2*np.pi),\n",
    "        \"reso\": 10\n",
    "    }\n",
    "}"
   ]
  },
  {
   "cell_type": "markdown",
   "id": "46009cb3-04ea-4cd6-b67e-dc6917bf4fed",
   "metadata": {},
   "source": [
    "Here we can specify all of the files we want to use in order to generate sparse data. As we generate more data we can extend the list of files to for each additional momentum bin. Make sure the files are in the format `FullSim_[p]GeV.root` where `p` is the associated momentum value of the data in GeV. The `assemble_sparse_data` will take the given files and parameters and construct a full set of sparse data using our fourier filtering method to be used by the `fftpredictor` class. Once you have run this block once -- unless you have a new data set to add of course -- it won't be need to run again."
   ]
  },
  {
   "cell_type": "code",
   "execution_count": 5,
   "id": "d20fa3a8-0766-4137-81fc-05bc45fb4791",
   "metadata": {},
   "outputs": [
    {
     "name": "stdout",
     "output_type": "stream",
     "text": [
      "[1/2] Loading file: FullSim_1GeV.root (this may take a while) ...\n",
      "[2/3] Subsetting data based on parameters: {'X': {'range': (500, 3500), 'reso': 0.1}, 'Y': {'range': (500, 2800), 'reso': 0.1}, 'theta': {'range': (0, 0.6), 'reso': 100}, 'phi': {'range': (0, 6.283185307179586), 'reso': 10}} ...\n",
      "[3/3] Making sparse datasets at fftprep/data ...\n",
      "[1/2] binning data...\n"
     ]
    },
    {
     "name": "stderr",
     "output_type": "stream",
     "text": [
      "100%|█████████████████████████████████████████████| 4/4 [00:00<00:00,  5.78it/s]\n"
     ]
    },
    {
     "name": "stdout",
     "output_type": "stream",
     "text": [
      "[2/2] creating image...\n",
      "[1/2] performing fast Fourier transform along 2 axes...\n",
      "[2/2] filtering Fourier transformed data with cutoff e^5.653977110014694\n"
     ]
    },
    {
     "name": "stderr",
     "output_type": "stream",
     "text": [
      "69000it [00:00, 1744792.43it/s]"
     ]
    },
    {
     "name": "stdout",
     "output_type": "stream",
     "text": [
      "[1/2] binning data...\n"
     ]
    },
    {
     "name": "stderr",
     "output_type": "stream",
     "text": [
      "\n",
      "100%|█████████████████████████████████████████████| 4/4 [00:00<00:00, 19.72it/s]\n"
     ]
    },
    {
     "name": "stdout",
     "output_type": "stream",
     "text": [
      "[2/2] creating image...\n",
      "[1/2] performing fast Fourier transform along 2 axes...\n",
      "[2/2] filtering Fourier transformed data with cutoff e^4.565716845313729\n"
     ]
    },
    {
     "name": "stderr",
     "output_type": "stream",
     "text": [
      "18000it [00:00, 2015200.51it/s]"
     ]
    },
    {
     "name": "stdout",
     "output_type": "stream",
     "text": [
      "[1/2] binning data...\n"
     ]
    },
    {
     "name": "stderr",
     "output_type": "stream",
     "text": [
      "\n",
      "100%|█████████████████████████████████████████████| 4/4 [00:00<00:00, 22.06it/s]\n"
     ]
    },
    {
     "name": "stdout",
     "output_type": "stream",
     "text": [
      "[2/2] creating image...\n",
      "[1/2] performing fast Fourier transform along 2 axes...\n",
      "[2/2] filtering Fourier transformed data with cutoff e^4.654498856673975\n"
     ]
    },
    {
     "name": "stderr",
     "output_type": "stream",
     "text": [
      "18900it [00:00, 1929189.98it/s]"
     ]
    },
    {
     "name": "stdout",
     "output_type": "stream",
     "text": [
      "[1/2] binning data...\n"
     ]
    },
    {
     "name": "stderr",
     "output_type": "stream",
     "text": [
      "\n",
      "100%|█████████████████████████████████████████████| 4/4 [00:00<00:00, 24.22it/s]\n"
     ]
    },
    {
     "name": "stdout",
     "output_type": "stream",
     "text": [
      "[2/2] creating image...\n",
      "[1/2] performing fast Fourier transform along 2 axes...\n",
      "[2/2] filtering Fourier transformed data with cutoff e^4.144427013004881\n"
     ]
    },
    {
     "name": "stderr",
     "output_type": "stream",
     "text": [
      "13800it [00:00, 2023754.25it/s]"
     ]
    },
    {
     "name": "stdout",
     "output_type": "stream",
     "text": [
      "[1/2] binning data...\n"
     ]
    },
    {
     "name": "stderr",
     "output_type": "stream",
     "text": [
      "\n",
      "100%|█████████████████████████████████████████████| 4/4 [00:00<00:00, 24.64it/s]\n"
     ]
    },
    {
     "name": "stdout",
     "output_type": "stream",
     "text": [
      "[2/2] creating image...\n",
      "[1/2] performing fast Fourier transform along 2 axes...\n",
      "[2/2] filtering Fourier transformed data with cutoff e^4.173029798646244\n"
     ]
    },
    {
     "name": "stderr",
     "output_type": "stream",
     "text": [
      "14490it [00:00, 1937498.88it/s]"
     ]
    },
    {
     "name": "stdout",
     "output_type": "stream",
     "text": [
      "[1/2] binning data...\n"
     ]
    },
    {
     "name": "stderr",
     "output_type": "stream",
     "text": [
      "\n",
      "100%|█████████████████████████████████████████████| 4/4 [00:00<00:00, 21.98it/s]\n"
     ]
    },
    {
     "name": "stdout",
     "output_type": "stream",
     "text": [
      "[2/2] creating image...\n",
      "[1/2] performing fast Fourier transform along 2 axes...\n",
      "[2/2] filtering Fourier transformed data with cutoff e^2.980630964991211\n"
     ]
    },
    {
     "name": "stderr",
     "output_type": "stream",
     "text": [
      "3780it [00:00, 2032363.69it/s]"
     ]
    },
    {
     "name": "stdout",
     "output_type": "stream",
     "text": [
      "[1/2] Loading file: FullSim_5GeV.root (this may take a while) ...\n"
     ]
    },
    {
     "name": "stderr",
     "output_type": "stream",
     "text": [
      "\n"
     ]
    },
    {
     "name": "stdout",
     "output_type": "stream",
     "text": [
      "[2/3] Subsetting data based on parameters: {'X': {'range': (500, 3500), 'reso': 0.1}, 'Y': {'range': (500, 2800), 'reso': 0.1}, 'theta': {'range': (0, 0.6), 'reso': 100}, 'phi': {'range': (0, 6.283185307179586), 'reso': 10}} ...\n",
      "[3/3] Making sparse datasets at fftprep/data ...\n",
      "[1/2] binning data...\n"
     ]
    },
    {
     "name": "stderr",
     "output_type": "stream",
     "text": [
      "100%|█████████████████████████████████████████████| 4/4 [00:00<00:00,  5.87it/s]\n"
     ]
    },
    {
     "name": "stdout",
     "output_type": "stream",
     "text": [
      "[2/2] creating image...\n",
      "[1/2] performing fast Fourier transform along 2 axes...\n",
      "[2/2] filtering Fourier transformed data with cutoff e^6.537277372475305\n"
     ]
    },
    {
     "name": "stderr",
     "output_type": "stream",
     "text": [
      "69000it [00:00, 245489.62it/s]\n"
     ]
    },
    {
     "name": "stdout",
     "output_type": "stream",
     "text": [
      "[1/2] binning data...\n"
     ]
    },
    {
     "name": "stderr",
     "output_type": "stream",
     "text": [
      "100%|█████████████████████████████████████████████| 4/4 [00:00<00:00, 20.23it/s]\n"
     ]
    },
    {
     "name": "stdout",
     "output_type": "stream",
     "text": [
      "[2/2] creating image...\n",
      "[1/2] performing fast Fourier transform along 2 axes...\n",
      "[2/2] filtering Fourier transformed data with cutoff e^5.575899717807056\n"
     ]
    },
    {
     "name": "stderr",
     "output_type": "stream",
     "text": [
      "18000it [00:00, 2023193.05it/s]"
     ]
    },
    {
     "name": "stdout",
     "output_type": "stream",
     "text": [
      "[1/2] binning data...\n"
     ]
    },
    {
     "name": "stderr",
     "output_type": "stream",
     "text": [
      "\n",
      "100%|█████████████████████████████████████████████| 4/4 [00:00<00:00, 24.66it/s]\n"
     ]
    },
    {
     "name": "stdout",
     "output_type": "stream",
     "text": [
      "[2/2] creating image...\n",
      "[1/2] performing fast Fourier transform along 2 axes...\n",
      "[2/2] filtering Fourier transformed data with cutoff e^5.698401779898349\n"
     ]
    },
    {
     "name": "stderr",
     "output_type": "stream",
     "text": [
      "18900it [00:00, 1993721.12it/s]"
     ]
    },
    {
     "name": "stdout",
     "output_type": "stream",
     "text": [
      "[1/2] binning data...\n"
     ]
    },
    {
     "name": "stderr",
     "output_type": "stream",
     "text": [
      "\n",
      "100%|█████████████████████████████████████████████| 4/4 [00:00<00:00, 26.57it/s]\n"
     ]
    },
    {
     "name": "stdout",
     "output_type": "stream",
     "text": [
      "[2/2] creating image...\n",
      "[1/2] performing fast Fourier transform along 2 axes...\n",
      "[2/2] filtering Fourier transformed data with cutoff e^5.168410811385815\n"
     ]
    },
    {
     "name": "stderr",
     "output_type": "stream",
     "text": [
      "13800it [00:00, 1784425.05it/s]"
     ]
    },
    {
     "name": "stdout",
     "output_type": "stream",
     "text": [
      "[1/2] binning data...\n"
     ]
    },
    {
     "name": "stderr",
     "output_type": "stream",
     "text": [
      "\n",
      "100%|█████████████████████████████████████████████| 4/4 [00:00<00:00, 24.00it/s]\n"
     ]
    },
    {
     "name": "stdout",
     "output_type": "stream",
     "text": [
      "[2/2] creating image...\n",
      "[1/2] performing fast Fourier transform along 2 axes...\n",
      "[2/2] filtering Fourier transformed data with cutoff e^5.1939860558600195\n"
     ]
    },
    {
     "name": "stderr",
     "output_type": "stream",
     "text": [
      "14490it [00:00, 1931464.60it/s]"
     ]
    },
    {
     "name": "stdout",
     "output_type": "stream",
     "text": [
      "[1/2] binning data...\n"
     ]
    },
    {
     "name": "stderr",
     "output_type": "stream",
     "text": [
      "\n",
      "100%|█████████████████████████████████████████████| 4/4 [00:00<00:00, 25.54it/s]\n"
     ]
    },
    {
     "name": "stdout",
     "output_type": "stream",
     "text": [
      "[2/2] creating image...\n",
      "[1/2] performing fast Fourier transform along 2 axes...\n",
      "[2/2] filtering Fourier transformed data with cutoff e^3.873938157007859\n"
     ]
    },
    {
     "name": "stderr",
     "output_type": "stream",
     "text": [
      "3780it [00:00, 1723686.58it/s]"
     ]
    },
    {
     "name": "stdout",
     "output_type": "stream",
     "text": [
      "[1/2] Loading file: FullSim_10GeV.root (this may take a while) ...\n"
     ]
    },
    {
     "name": "stderr",
     "output_type": "stream",
     "text": [
      "\n"
     ]
    },
    {
     "name": "stdout",
     "output_type": "stream",
     "text": [
      "[2/3] Subsetting data based on parameters: {'X': {'range': (500, 3500), 'reso': 0.1}, 'Y': {'range': (500, 2800), 'reso': 0.1}, 'theta': {'range': (0, 0.6), 'reso': 100}, 'phi': {'range': (0, 6.283185307179586), 'reso': 10}} ...\n",
      "[3/3] Making sparse datasets at fftprep/data ...\n",
      "[1/2] binning data...\n"
     ]
    },
    {
     "name": "stderr",
     "output_type": "stream",
     "text": [
      "100%|█████████████████████████████████████████████| 4/4 [00:00<00:00, 43.91it/s]\n"
     ]
    },
    {
     "name": "stdout",
     "output_type": "stream",
     "text": [
      "[2/2] creating image...\n",
      "[1/2] performing fast Fourier transform along 2 axes...\n",
      "[2/2] filtering Fourier transformed data with cutoff e^7.312362483214127\n"
     ]
    },
    {
     "name": "stderr",
     "output_type": "stream",
     "text": [
      "69000it [00:00, 2012300.02it/s]"
     ]
    },
    {
     "name": "stdout",
     "output_type": "stream",
     "text": [
      "[1/2] binning data...\n"
     ]
    },
    {
     "name": "stderr",
     "output_type": "stream",
     "text": [
      "\n",
      "100%|█████████████████████████████████████████████| 4/4 [00:00<00:00, 63.21it/s]\n"
     ]
    },
    {
     "name": "stdout",
     "output_type": "stream",
     "text": [
      "[2/2] creating image...\n",
      "[1/2] performing fast Fourier transform along 2 axes...\n",
      "[2/2] filtering Fourier transformed data with cutoff e^6.280883229660546\n"
     ]
    },
    {
     "name": "stderr",
     "output_type": "stream",
     "text": [
      "18000it [00:00, 2017192.72it/s]"
     ]
    },
    {
     "name": "stdout",
     "output_type": "stream",
     "text": [
      "[1/2] binning data...\n"
     ]
    },
    {
     "name": "stderr",
     "output_type": "stream",
     "text": [
      "\n",
      "100%|█████████████████████████████████████████████| 4/4 [00:00<00:00, 55.36it/s]\n"
     ]
    },
    {
     "name": "stdout",
     "output_type": "stream",
     "text": [
      "[2/2] creating image...\n",
      "[1/2] performing fast Fourier transform along 2 axes...\n",
      "[2/2] filtering Fourier transformed data with cutoff e^6.3874940474698985\n"
     ]
    },
    {
     "name": "stderr",
     "output_type": "stream",
     "text": [
      "18900it [00:00, 2033302.01it/s]"
     ]
    },
    {
     "name": "stdout",
     "output_type": "stream",
     "text": [
      "[1/2] binning data...\n"
     ]
    },
    {
     "name": "stderr",
     "output_type": "stream",
     "text": [
      "\n",
      "100%|█████████████████████████████████████████████| 4/4 [00:00<00:00, 57.68it/s]\n"
     ]
    },
    {
     "name": "stdout",
     "output_type": "stream",
     "text": [
      "[2/2] creating image...\n",
      "[1/2] performing fast Fourier transform along 2 axes...\n",
      "[2/2] filtering Fourier transformed data with cutoff e^5.923635968339074\n"
     ]
    },
    {
     "name": "stderr",
     "output_type": "stream",
     "text": [
      "13800it [00:00, 1738493.28it/s]"
     ]
    },
    {
     "name": "stdout",
     "output_type": "stream",
     "text": [
      "[1/2] binning data...\n"
     ]
    },
    {
     "name": "stderr",
     "output_type": "stream",
     "text": [
      "\n",
      "100%|█████████████████████████████████████████████| 4/4 [00:00<00:00, 55.01it/s]\n"
     ]
    },
    {
     "name": "stdout",
     "output_type": "stream",
     "text": [
      "[2/2] creating image...\n",
      "[1/2] performing fast Fourier transform along 2 axes...\n",
      "[2/2] filtering Fourier transformed data with cutoff e^5.958348598402122\n"
     ]
    },
    {
     "name": "stderr",
     "output_type": "stream",
     "text": [
      "14490it [00:00, 1842127.33it/s]"
     ]
    },
    {
     "name": "stdout",
     "output_type": "stream",
     "text": [
      "[1/2] binning data...\n"
     ]
    },
    {
     "name": "stderr",
     "output_type": "stream",
     "text": [
      "\n",
      "100%|█████████████████████████████████████████████| 4/4 [00:00<00:00, 57.72it/s]\n"
     ]
    },
    {
     "name": "stdout",
     "output_type": "stream",
     "text": [
      "[2/2] creating image...\n",
      "[1/2] performing fast Fourier transform along 2 axes...\n",
      "[2/2] filtering Fourier transformed data with cutoff e^4.640366336696195\n"
     ]
    },
    {
     "name": "stderr",
     "output_type": "stream",
     "text": [
      "3780it [00:00, 2092999.22it/s]\n"
     ]
    }
   ],
   "source": [
    "# add all files in order of momentum\n",
    "files = [\"FullSim_1GeV.root\", \"FullSim_5GeV.root\", \"FullSim_10GeV.root\"] \n",
    "\n",
    "# generate sparse data for storage\n",
    "assemble_sparse_data(files, params)\n",
    "\n",
    "# Note that this block might run for a bit and do nothing, there is a bug with \n",
    "# jupyter that blocks the print statements while a function is being called."
   ]
  },
  {
   "cell_type": "markdown",
   "id": "f1281bdc-4283-43f0-8e82-7abe943b11b9",
   "metadata": {},
   "source": [
    "# 2. Initializing the model\n",
    "\n",
    "Now that we have the necessary data we can intialize our `fftpredictor` model with this data. The `bins` parameter should have all of the momentum bins you want to load in MeV specified. Also make sure the `params` parameter matches with the one you used to generate the data originally, so the algorithm knows with what range and resoltuion the binning was done. Once we have loaded the model we can fit a linear regression to the pairwise coordinate predictions it gives, allowing it to give predictions for any set of coordinate $p, x, y, \\theta, \\phi$. The `files` parameter in `get_training_data` should match the files parameter used in `assemble_sparse_data` in the previous section."
   ]
  },
  {
   "cell_type": "code",
   "execution_count": 8,
   "id": "9357326e-65ad-4f03-ab8d-6ce01ae2d3d7",
   "metadata": {},
   "outputs": [
    {
     "name": "stdout",
     "output_type": "stream",
     "text": [
      "[1/2] Loading file: FullSim_1GeV.root (this may take a while) ...\n",
      "[2/2] Subsetting data based on parameters: {'X': {'range': (500, 3500), 'reso': 0.1}, 'Y': {'range': (500, 2800), 'reso': 0.1}, 'theta': {'range': (0, 0.6), 'reso': 100}, 'phi': {'range': (0, 6.283185307179586), 'reso': 10}} ...\n",
      "[1/2] Loading file: FullSim_5GeV.root (this may take a while) ...\n",
      "[2/2] Subsetting data based on parameters: {'X': {'range': (500, 3500), 'reso': 0.1}, 'Y': {'range': (500, 2800), 'reso': 0.1}, 'theta': {'range': (0, 0.6), 'reso': 100}, 'phi': {'range': (0, 6.283185307179586), 'reso': 10}} ...\n",
      "[1/2] Loading file: FullSim_10GeV.root (this may take a while) ...\n",
      "[2/2] Subsetting data based on parameters: {'X': {'range': (500, 3500), 'reso': 0.1}, 'Y': {'range': (500, 2800), 'reso': 0.1}, 'theta': {'range': (0, 0.6), 'reso': 100}, 'phi': {'range': (0, 6.283185307179586), 'reso': 10}} ...\n",
      "[1/2] Getting predictions for each coordinate pair from FFT data...\n"
     ]
    },
    {
     "name": "stderr",
     "output_type": "stream",
     "text": [
      "100%|████████████████████████████| 60070237/60070237 [12:54<00:00, 77545.33it/s]\n"
     ]
    },
    {
     "name": "stdout",
     "output_type": "stream",
     "text": [
      "[2/2] computing linear regression coefficients...\n",
      "[1/2] Getting predictions for each coordinate pair from FFT data...\n"
     ]
    },
    {
     "name": "stderr",
     "output_type": "stream",
     "text": [
      "100%|████████████████████████████| 60403703/60403703 [13:09<00:00, 76476.40it/s]\n"
     ]
    },
    {
     "name": "stdout",
     "output_type": "stream",
     "text": [
      "[2/2] computing linear regression coefficients...\n",
      "[1/2] Getting predictions for each coordinate pair from FFT data...\n"
     ]
    },
    {
     "name": "stderr",
     "output_type": "stream",
     "text": [
      "100%|████████████████████████████| 25487788/25487788 [05:21<00:00, 79333.08it/s]\n"
     ]
    },
    {
     "name": "stdout",
     "output_type": "stream",
     "text": [
      "[2/2] computing linear regression coefficients...\n"
     ]
    }
   ],
   "source": [
    "# first we initilize the model from the files we generated in the previous code block\n",
    "# if you have issues here ensure that your file system is set up correctly and that \n",
    "# the sparse data is saved under fftprep/data\n",
    "model = fftpredictor(load_multi_from_sparse(bins = [1000,5000,10000]), params=params)\n",
    "\n",
    "# Now we load the training data and fit a linear regression to the data \n",
    "model.fit_linear(*get_training_data(files, params))"
   ]
  },
  {
   "cell_type": "markdown",
   "id": "f894f1c8-d39b-42f6-86d9-8c2cc957c303",
   "metadata": {},
   "source": [
    "Once the linear regression coefficients have been determined as well as the intercepts we can simply save them (just copy the plain text output from this block or your command line). This allows us to just use the model without doing any fitting on every future use. Again unless you have new data to add you can just use the same coefficients on every run, instead of having to run this block every time the model is intialized."
   ]
  },
  {
   "cell_type": "code",
   "execution_count": 9,
   "id": "7ac2b7fa-1c5f-4e8e-9ed8-f1531bcabf48",
   "metadata": {},
   "outputs": [
    {
     "data": {
      "text/plain": [
       "[array([2.06760854e-01, 2.24318204e-01, 7.27489415e-01, 5.77515270e-01,\n",
       "        6.82154470e-01, 1.99721306e-01, 1.28499286e-05, 1.53433174e-05,\n",
       "        4.11704027e-02, 2.51585091e-02]),\n",
       " array([-5.68759353e-02,  4.58101256e-01,  7.74284749e-01,  7.95634036e-01,\n",
       "         8.37574140e-01, -2.51841410e-01,  4.06784754e-05,  1.40460751e-04,\n",
       "         8.57536271e-02,  6.60613376e-02]),\n",
       " array([ 1.61857691e-01,  4.24262543e-01,  7.06796277e-01,  8.09580389e-01,\n",
       "         8.57487536e-01, -2.26864829e-01,  1.35914080e-04,  4.50624295e-04,\n",
       "         4.22329996e-01,  6.73391904e-02])]"
      ]
     },
     "execution_count": 9,
     "metadata": {},
     "output_type": "execute_result"
    }
   ],
   "source": [
    "# these are the coeficients determined by the linear regression\n",
    "coef = model.coef_\n",
    "coef"
   ]
  },
  {
   "cell_type": "code",
   "execution_count": 10,
   "id": "ee749f30-d7aa-4a7c-8296-73567b116166",
   "metadata": {},
   "outputs": [
    {
     "data": {
      "text/plain": [
       "[-182.24575061427902, -988.6440171217222, -2261.3892557711224]"
      ]
     },
     "execution_count": 10,
     "metadata": {},
     "output_type": "execute_result"
    }
   ],
   "source": [
    "# these are the intercepts determined by the linear regression\n",
    "\n",
    "intercept = model.intercept_\n",
    "intercept"
   ]
  },
  {
   "cell_type": "markdown",
   "id": "a9a5a589-0d71-4440-93fe-aa96933aa641",
   "metadata": {},
   "source": [
    "This is how you set the linear regression coefficents and intercepts in the case you already have determined them:"
   ]
  },
  {
   "cell_type": "code",
   "execution_count": 11,
   "id": "a6a4efe3-b93d-4e50-aada-63c33e5fb2f8",
   "metadata": {},
   "outputs": [],
   "source": [
    "# now that we have determined the coefficients and intercepts every \n",
    "# time we use the model we can initialize it using these as follows:\n",
    "\n",
    "model = fftpredictor(load_multi_from_sparse([1000,5000,10000]), params=params)\n",
    "model.coef_ = coef # write whatever coeficients you want here, but keeping the same format as the outputs above\n",
    "model.intercept_ = intercept# write whatever intercepts you want here, but keeping the same format as the outputs above"
   ]
  },
  {
   "cell_type": "markdown",
   "id": "e00386c7-71fc-46c2-bd44-df9e6b52f2fd",
   "metadata": {},
   "source": [
    "And now running the model to make predictions is as easy as follows:"
   ]
  },
  {
   "cell_type": "code",
   "execution_count": 16,
   "id": "a895bcc8-30c5-44fb-b629-2f1b6ac11053",
   "metadata": {},
   "outputs": [
    {
     "data": {
      "text/plain": [
       "626.1013379545213"
      ]
     },
     "execution_count": 16,
     "metadata": {},
     "output_type": "execute_result"
    }
   ],
   "source": [
    "x,y,theta,phi = 1000,1000,0.1,1.2\n",
    "model.predict(vec = (x,y,theta,phi), p = 5893)"
   ]
  },
  {
   "cell_type": "markdown",
   "id": "e1dfc671-7851-4dba-8cbd-3f99812ec60b",
   "metadata": {},
   "source": [
    "Here the `vec` input is just the coordinates of the particle you want to simulate. Here we are saying that the particle begins at $(1000,1000)$ where the $x,y$ values are given in millimeters relative to the center of the calorimeter. Then the particle travels according to $\\theta,\\phi$ and creates a shower. Last we specify the mometum of the particle with the `p` parameter. The function returns the predicted cluster energy given the specified parameters."
   ]
  }
 ],
 "metadata": {
  "kernelspec": {
   "display_name": "Python 3 (ipykernel)",
   "language": "python",
   "name": "python3"
  },
  "language_info": {
   "codemirror_mode": {
    "name": "ipython",
    "version": 3
   },
   "file_extension": ".py",
   "mimetype": "text/x-python",
   "name": "python",
   "nbconvert_exporter": "python",
   "pygments_lexer": "ipython3",
   "version": "3.12.4"
  }
 },
 "nbformat": 4,
 "nbformat_minor": 5
}
